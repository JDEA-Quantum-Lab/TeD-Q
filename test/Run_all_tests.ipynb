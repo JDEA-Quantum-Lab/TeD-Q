{
 "cells": [
  {
   "cell_type": "code",
   "execution_count": null,
   "id": "b15a67f6-8692-45a5-806a-2d1442103b64",
   "metadata": {},
   "outputs": [],
   "source": [
    "from test_all import run_the_test"
   ]
  },
  {
   "cell_type": "code",
   "execution_count": null,
   "id": "7cd89cf8-3f67-4ae4-81ba-c30fe27639ed",
   "metadata": {},
   "outputs": [],
   "source": [
    "run_the_test()"
   ]
  },
  {
   "cell_type": "code",
   "execution_count": null,
   "id": "675c92da-55fe-44af-9287-1cbf8d007a86",
   "metadata": {},
   "outputs": [],
   "source": []
  }
 ],
 "metadata": {
  "kernelspec": {
   "display_name": "Python 3 (ipykernel)",
   "language": "python",
   "name": "python3"
  },
  "language_info": {
   "codemirror_mode": {
    "name": "ipython",
    "version": 3
   },
   "file_extension": ".py",
   "mimetype": "text/x-python",
   "name": "python",
   "nbconvert_exporter": "python",
   "pygments_lexer": "ipython3",
   "version": "3.8.10"
  }
 },
 "nbformat": 4,
 "nbformat_minor": 5
}
