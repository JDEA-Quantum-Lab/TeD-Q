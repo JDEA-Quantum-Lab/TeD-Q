{
 "cells": [
  {
   "cell_type": "markdown",
   "id": "ed7dc858",
   "metadata": {
    "tags": []
   },
   "source": [
    "# Qubit rotation\n",
    "\n",
    "This example shows the basic operation of machine learning framework with a quantum device. A qubit is initilized with a arbitary Rx and Ry rotation and the target state is pure |1> state. After several steps of the iteration. The rotation angle of Rx and Ry will converge to 0 and pi. \n",
    "\n",
    "### About this example\n",
    "The example contains the model compiled with three different configurations of backends and interfaces -- JAX backend, JAX backend with pytorch interface and pytorch backend.\n",
    "The example also shows how to use state vector propagation mode and tensor network contraction mode. And two methods for obtaining gradient -- back propagation and parameter shift."
   ]
  },
  {
   "cell_type": "markdown",
   "id": "496147a8",
   "metadata": {},
   "source": [
    "# Initialization"
   ]
  },
  {
   "cell_type": "code",
   "execution_count": null,
   "id": "7f2359d8",
   "metadata": {},
   "outputs": [],
   "source": [
    "import pennylane as qml"
   ]
  },
  {
   "cell_type": "markdown",
   "id": "d2bda454",
   "metadata": {
    "tags": []
   },
   "source": [
    "# Define the quantum model"
   ]
  },
  {
   "cell_type": "markdown",
   "id": "e88114ab",
   "metadata": {},
   "source": [
    "### Define the circuit with TeD-Q framework\n",
    "#### (Remember, if you have multiple measurements, all the measurement results should has the same shape!)"
   ]
  },
  {
   "cell_type": "code",
   "execution_count": null,
   "id": "e058ebde-9a86-4cf8-90ff-9691fe91a733",
   "metadata": {},
   "outputs": [],
   "source": []
  },
  {
   "cell_type": "code",
   "execution_count": null,
   "id": "3f8e2bd7-d6f1-4b7c-abaa-51fbadc055fa",
   "metadata": {},
   "outputs": [],
   "source": [
    "n_qubits = 1\n",
    "q_depth = 1"
   ]
  },
  {
   "cell_type": "code",
   "execution_count": null,
   "id": "3bed6ff1-24ea-4b21-81ec-f348f29f3360",
   "metadata": {},
   "outputs": [],
   "source": [
    "dev = qml.device(\"default.qubit\", wires=n_qubits)"
   ]
  },
  {
   "cell_type": "code",
   "execution_count": null,
   "id": "6d7fcd11-0bf2-4004-bd8d-151a894c083e",
   "metadata": {},
   "outputs": [],
   "source": []
  },
  {
   "cell_type": "code",
   "execution_count": null,
   "id": "391463f5",
   "metadata": {},
   "outputs": [],
   "source": [
    "@qml.qnode(dev, interface=\"torch\")\n",
    "def circuitDef(params):\n",
    "    for i in range(n_qubits):\n",
    "        qml.RY(params[0][i], wires=i)\n",
    "    for i in range(n_qubits):\n",
    "        qml.RZ(params[1][i], wires=i)\n",
    "    for i in range(n_qubits-1):\n",
    "        qml.CNOT(wires=(i, i+1))\n",
    "    for i in range(n_qubits):\n",
    "        qml.RY(params[2][i], wires=i)\n",
    "    for i in range(n_qubits):\n",
    "        qml.RZ(params[3][i], wires=i)\n",
    "    return [qml.expval(qml.PauliZ(wires=idx)) for idx in range(n_qubits)]\n"
   ]
  },
  {
   "cell_type": "code",
   "execution_count": null,
   "id": "818bf875",
   "metadata": {},
   "outputs": [],
   "source": []
  },
  {
   "cell_type": "markdown",
   "id": "acd16662",
   "metadata": {},
   "source": [
    "### Define cost function and optimizer"
   ]
  },
  {
   "cell_type": "code",
   "execution_count": null,
   "id": "67a7ee08",
   "metadata": {},
   "outputs": [],
   "source": [
    "def cost(params):\n",
    "    results = circuitDef(params)\n",
    "    result = sum(results)\n",
    "    return result"
   ]
  },
  {
   "cell_type": "code",
   "execution_count": null,
   "id": "2927d071-30a3-49c6-bb43-10dd28328354",
   "metadata": {},
   "outputs": [],
   "source": [
    "import torch\n",
    "#parameters = torch.rand(((q_depth+1)*2,n_qubits), requires_grad= True)"
   ]
  },
  {
   "cell_type": "code",
   "execution_count": null,
   "id": "7bd77c1f-9316-40a7-8f77-ac30fffc970c",
   "metadata": {},
   "outputs": [],
   "source": [
    "#a = cost(parameters)"
   ]
  },
  {
   "cell_type": "code",
   "execution_count": null,
   "id": "49114aee-bc71-4a32-9307-608b5648b483",
   "metadata": {},
   "outputs": [],
   "source": [
    "#a"
   ]
  },
  {
   "cell_type": "code",
   "execution_count": null,
   "id": "801d441b-a60c-424b-a741-ff0524bc8e10",
   "metadata": {},
   "outputs": [],
   "source": [
    "#a.backward()"
   ]
  },
  {
   "cell_type": "code",
   "execution_count": null,
   "id": "5fa6f0fd-bc03-4d4d-8755-72b3a8457e85",
   "metadata": {},
   "outputs": [],
   "source": [
    "#parameters.grad"
   ]
  },
  {
   "cell_type": "markdown",
   "id": "7baf430d",
   "metadata": {},
   "source": [
    "### Using backend's optimizer and training"
   ]
  },
  {
   "cell_type": "code",
   "execution_count": null,
   "id": "bef61d3a",
   "metadata": {},
   "outputs": [],
   "source": [
    "%%time\n",
    "parameters = torch.rand(((q_depth+1)*2,n_qubits), requires_grad= True)\n",
    "from torch import optim\n",
    "optimizer = optim.Adam([parameters], lr=0.1)\n",
    "for i in range(500):\n",
    "    optimizer.zero_grad()\n",
    "    #print(b.grad)\n",
    "    loss = cost(parameters)\n",
    "    loss.backward()\n",
    "    optimizer.step()\n",
    "    #if (i + 1) % 5 == 0:\n",
    "    #    print(\"Cost after step {:5d}: {}\".format(i + 1, cost(parameters)))\n",
    "    #    print(\"Parameters after step {:5d}: {}\".format(i + 1, parameters))\n",
    "#print(parameters)\n",
    "#print(cost(parameters))"
   ]
  },
  {
   "cell_type": "code",
   "execution_count": null,
   "id": "2bd3bc5b-da43-4efc-9661-9dabfcbd6ba6",
   "metadata": {},
   "outputs": [],
   "source": []
  },
  {
   "cell_type": "code",
   "execution_count": null,
   "id": "853061b3-8efa-47f8-8127-80a73d5d3acd",
   "metadata": {},
   "outputs": [],
   "source": []
  },
  {
   "cell_type": "code",
   "execution_count": null,
   "id": "da2ca869-0889-4e73-ac52-447b455f5144",
   "metadata": {},
   "outputs": [],
   "source": []
  },
  {
   "cell_type": "code",
   "execution_count": 1,
   "id": "af47fc72-f8b5-45be-95ef-a27e31925a8c",
   "metadata": {},
   "outputs": [],
   "source": [
    "import numpy as np\n",
    "from qiskit import *\n",
    "import torch\n",
    "import math\n",
    "from torch.optim import lr_scheduler\n",
    "from qiskit.providers.aer import AerSimulator\n",
    "from qiskit.circuit import Parameter\n",
    "from qiskit_machine_learning.neural_networks import CircuitQNN\n",
    "from qiskit_machine_learning.connectors import TorchConnector\n",
    "from qiskit.utils import QuantumInstance, algorithm_globals"
   ]
  },
  {
   "cell_type": "code",
   "execution_count": 43,
   "id": "aff6c06f-d6ac-4ebf-b8c8-20c36d8c58d2",
   "metadata": {},
   "outputs": [],
   "source": [
    "n_qubits = 4\n",
    "q_depth = 1"
   ]
  },
  {
   "cell_type": "code",
   "execution_count": 44,
   "id": "80be6e7a-f32a-469e-b0a1-dc6ccb121b84",
   "metadata": {},
   "outputs": [],
   "source": [
    "\n",
    "n_train_params = (q_depth+1)*2*n_qubits\n",
    "params_list = []\n",
    "for idx in range(n_train_params):\n",
    "    params_list.append(Parameter(\"param_\"+str(idx)))\n"
   ]
  },
  {
   "cell_type": "code",
   "execution_count": 45,
   "id": "d5d7b12c-6d1a-442f-9ef6-bd78bb93f789",
   "metadata": {},
   "outputs": [
    {
     "data": {
      "text/plain": [
       "16"
      ]
     },
     "execution_count": 45,
     "metadata": {},
     "output_type": "execute_result"
    }
   ],
   "source": [
    "n_train_params"
   ]
  },
  {
   "cell_type": "code",
   "execution_count": 46,
   "id": "16e1e953-e050-46fb-9594-258fdbdf0987",
   "metadata": {},
   "outputs": [
    {
     "name": "stdout",
     "output_type": "stream",
     "text": [
      "count:   16\n"
     ]
    },
    {
     "data": {
      "text/plain": [
       "<qiskit.circuit.instructionset.InstructionSet at 0x7f2fd15d71c0>"
      ]
     },
     "execution_count": 46,
     "metadata": {},
     "output_type": "execute_result"
    }
   ],
   "source": [
    "#     params = params.view(-1)\n",
    "qnn_circ = QuantumCircuit(n_qubits, 0)\n",
    "    \n",
    "\n",
    "# Hd td\n",
    "count = 0\n",
    "for i in range(n_qubits):\n",
    "    qnn_circ.ry(params_list[count],i)\n",
    "    count += 1\n",
    "for i in range(n_qubits):\n",
    "    qnn_circ.rz(params_list[count],i)\n",
    "    count += 1\n",
    "for i in range(n_qubits-1):\n",
    "    qnn_circ.cx(i, i+1)\n",
    "for i in range(n_qubits):\n",
    "    qnn_circ.ry(params_list[count],i)\n",
    "    count += 1\n",
    "for i in range(n_qubits):\n",
    "    qnn_circ.rz(params_list[count],i)\n",
    "    count += 1\n",
    "print(\"count:  \", count)\n",
    "    \n",
    "   \n",
    "qc = QuantumCircuit(n_qubits, 0)\n",
    "qc.append(qnn_circ, range(n_qubits))\n",
    "#qc.measure(0,0)"
   ]
  },
  {
   "cell_type": "code",
   "execution_count": 47,
   "id": "b31cc267-fef2-4dba-9e86-f97ebce73ff2",
   "metadata": {},
   "outputs": [],
   "source": [
    "import numpy as np\n",
    "\n",
    "from qiskit import Aer, QuantumCircuit\n",
    "from qiskit.circuit import Parameter\n",
    "from qiskit.circuit.library import RealAmplitudes, ZZFeatureMap\n",
    "from qiskit.opflow import StateFn, PauliSumOp, AerPauliExpectation, ListOp, Gradient, PauliOp, Zero\n",
    "from qiskit.utils import QuantumInstance, algorithm_globals\n",
    "\n",
    "algorithm_globals.random_seed = 42\n",
    "\n",
    "from qiskit_machine_learning.neural_networks import OpflowQNN\n",
    "from qiskit import quantum_info"
   ]
  },
  {
   "cell_type": "code",
   "execution_count": 48,
   "id": "52ffbbe6-1210-4c99-8ef2-19a55b9360a0",
   "metadata": {},
   "outputs": [],
   "source": [
    "qi = QuantumInstance(Aer.get_backend(\"aer_simulator_statevector\"))\n",
    "preparation_circ = QuantumCircuit(n_qubits, 0)"
   ]
  },
  {
   "cell_type": "code",
   "execution_count": 49,
   "id": "3a9f72d6-dd62-447f-b591-452218476e85",
   "metadata": {},
   "outputs": [],
   "source": [
    "# set method to calculcate expected values\n",
    "expval = AerPauliExpectation()\n",
    "\n",
    "# define gradient method\n",
    "gradient = Gradient()\n",
    "qc_sfn1 = StateFn(qc)\n",
    "p_s = [\"Z\" for _ in range(n_qubits)]\n",
    "p_s = \"\".join(p_s)\n",
    "H1 = StateFn(PauliOp(quantum_info.Pauli(p_s)))\n",
    "op1 = ~H1 @ qc_sfn1\n",
    "#qi = QuantumInstance(Aer.get_backend(\"aer_simulator_density_matrix\"))\n",
    "qnn2 = OpflowQNN(op1, preparation_circ.parameters, qnn_circ.parameters, expval, gradient, qi)"
   ]
  },
  {
   "cell_type": "code",
   "execution_count": 50,
   "id": "3e4f659a-609c-4bda-ab77-7267ca81191d",
   "metadata": {},
   "outputs": [
    {
     "name": "stdout",
     "output_type": "stream",
     "text": [
      "Initial weights:  [ 0.05479121 -0.01222431  0.07171958  0.03947361 -0.08116453  0.09512447\n",
      "  0.05222794  0.05721286 -0.07437727 -0.00992281 -0.0258404   0.085353\n",
      "  0.02877302  0.06455232 -0.01131716 -0.05455226]\n"
     ]
    }
   ],
   "source": [
    "initial_weights = 0.1 * (2 * algorithm_globals.random.random(qnn2.num_weights) - 1)\n",
    "print(\"Initial weights: \", initial_weights)\n",
    "\n",
    "model2 = TorchConnector(qnn2, initial_weights)"
   ]
  },
  {
   "cell_type": "code",
   "execution_count": null,
   "id": "843146c2-62a0-44ff-9193-d83942706bf3",
   "metadata": {},
   "outputs": [],
   "source": []
  },
  {
   "cell_type": "code",
   "execution_count": 51,
   "id": "cce47b5d-c725-4e71-9b11-4d3bd0812e0e",
   "metadata": {},
   "outputs": [
    {
     "data": {
      "text/plain": [
       "tensor([0.9952], grad_fn=<_TorchNNFunctionBackward>)"
      ]
     },
     "execution_count": 51,
     "metadata": {},
     "output_type": "execute_result"
    }
   ],
   "source": [
    "model2()"
   ]
  },
  {
   "cell_type": "code",
   "execution_count": 52,
   "id": "b9c53daf-05b1-4dd6-90f5-5bfa0d35cade",
   "metadata": {},
   "outputs": [],
   "source": [
    "#optimizer = torch.optim.Adam(model2.parameters(), lr=0.5)"
   ]
  },
  {
   "cell_type": "code",
   "execution_count": 53,
   "id": "eb24b853-7da8-4d55-b93e-f7906649fddd",
   "metadata": {},
   "outputs": [
    {
     "name": "stdout",
     "output_type": "stream",
     "text": [
      "CPU times: user 1min 54s, sys: 29.1 s, total: 2min 24s\n",
      "Wall time: 2min 32s\n"
     ]
    }
   ],
   "source": [
    "%%time\n",
    "from torch import optim\n",
    "optimizer = optim.Adam(model2.parameters(), lr=0.1)\n",
    "for i in range(500):\n",
    "    optimizer.zero_grad()\n",
    "    #print(b.grad)\n",
    "    loss = model2()\n",
    "    loss.backward()\n",
    "    optimizer.step()\n",
    "    #if (i + 1) % 5 == 0:\n",
    "    #    print(\"Cost after step {:5d}: {}\".format(i + 1, cost(parameters)))\n",
    "    #    print(\"Parameters after step {:5d}: {}\".format(i + 1, parameters))\n",
    "#print(parameters)\n",
    "#print(cost(parameters))"
   ]
  },
  {
   "cell_type": "code",
   "execution_count": null,
   "id": "d55c8a67-7143-4496-b51c-423eae758315",
   "metadata": {},
   "outputs": [],
   "source": []
  },
  {
   "cell_type": "code",
   "execution_count": null,
   "id": "99a4f832-c8ac-4d2a-a0da-0f345d1feaff",
   "metadata": {},
   "outputs": [],
   "source": []
  },
  {
   "cell_type": "code",
   "execution_count": null,
   "id": "75d8e8cf-760e-495c-982b-2c6f38586ab4",
   "metadata": {},
   "outputs": [],
   "source": []
  },
  {
   "cell_type": "code",
   "execution_count": null,
   "id": "63aa8f4a-e8e5-4bf1-b7d9-4dd68495a93d",
   "metadata": {},
   "outputs": [],
   "source": []
  },
  {
   "cell_type": "code",
   "execution_count": 82,
   "id": "ec49b9a0-2f1d-45c7-94b5-64709e7fb9c9",
   "metadata": {},
   "outputs": [],
   "source": [
    "import paddle\n",
    "from paddle_quantum.circuit import UAnsatz\n",
    "from paddle_quantum.utils import plot_state_in_bloch_sphere\n",
    "import numpy as np\n",
    "from paddle_quantum.utils import pauli_str_to_matrix\n",
    "n_qubits = 7\n",
    "q_depth = 1"
   ]
  },
  {
   "cell_type": "code",
   "execution_count": 83,
   "id": "4706eb4b-972f-44ce-aa5f-ad79bb1f7144",
   "metadata": {},
   "outputs": [],
   "source": [
    "def circuit(param):\n",
    "    \n",
    "    cir = UAnsatz(n_qubits)\n",
    "    # 对单比特量子态做随机的旋转操作\n",
    "    \n",
    "    for i in range(n_qubits):\n",
    "        cir.ry(param[0][i], i)\n",
    "    for i in range(n_qubits):\n",
    "        cir.rz(param[1][i], i)\n",
    "    for i in range(n_qubits-1):\n",
    "        cir.cnot([i, i+1])\n",
    "    for i in range(n_qubits):\n",
    "        cir.ry(param[2][i], i)\n",
    "    for i in range(n_qubits):\n",
    "        cir.rz(param[3][i], i)\n",
    "    \n",
    "    #cir.rx(param[0], 0)\n",
    "    #cir.ry(param[1], 0)\n",
    "    #cir.pauli_channel(1, 0, 0, 1)\n",
    "    #cir.pauli_channel(0, 1, 0, 2)\n",
    "    #cir.pauli_channel(0, 0, 1, 3)\n",
    "    #cir.s(4)\n",
    "    #cir.t(5)\n",
    "    #cir.cnot([6, 7])\n",
    "    #cir.cy([8, 9])\n",
    "    #cir.cz([10, 11])\n",
    "    #cir.swap([12, 13])\n",
    "    #cir.cswap([14, 15, 16])\n",
    "    #cir.ccx([17, 18, 19])\n",
    "    \n",
    "    cir.run_state_vector()\n",
    "    \n",
    "    return cir\n",
    "    "
   ]
  },
  {
   "cell_type": "code",
   "execution_count": 84,
   "id": "6daf8429-0642-4073-ba4a-cb4b1184ddc1",
   "metadata": {},
   "outputs": [
    {
     "data": {
      "text/plain": [
       "[[1, 'Z0'], [2, 'Z0'], [3, 'Z0'], [4, 'Z0'], [5, 'Z0'], [6, 'Z0'], [7, 'Z0']]"
      ]
     },
     "execution_count": 84,
     "metadata": {},
     "output_type": "execute_result"
    }
   ],
   "source": [
    "[[i+1, 'Z0'] for i in range(n_qubits)]"
   ]
  },
  {
   "cell_type": "code",
   "execution_count": 85,
   "id": "a3d51d15-9990-4c41-b813-183580b1eebc",
   "metadata": {},
   "outputs": [],
   "source": [
    "def cost(param):\n",
    "    cir = circuit(param)\n",
    "    fin_state = cir.run_state_vector()\n",
    "    H = [[1, 'Z0']]\n",
    "    expectation_val = cir.expecval(H)\n",
    "    loss = expectation_val\n",
    "    return loss"
   ]
  },
  {
   "cell_type": "code",
   "execution_count": 86,
   "id": "39236bec-f1e8-418a-87a7-03d03e353ffe",
   "metadata": {},
   "outputs": [],
   "source": [
    "a = paddle.to_tensor(np.random.rand((q_depth+1)*2, n_qubits), stop_gradient = False)\n",
    "param = (a,)"
   ]
  },
  {
   "cell_type": "code",
   "execution_count": 87,
   "id": "ada31a24-1534-4241-af20-b857c3e07ae4",
   "metadata": {},
   "outputs": [
    {
     "data": {
      "text/plain": [
       "Tensor(shape=[7], dtype=float64, place=CPUPlace, stop_gradient=False,\n",
       "       [0.61317793, 0.75366663, 0.78116963, 0.48335164, 0.47360398, 0.45203765,\n",
       "        0.15946189])"
      ]
     },
     "execution_count": 87,
     "metadata": {},
     "output_type": "execute_result"
    }
   ],
   "source": [
    "a[3]"
   ]
  },
  {
   "cell_type": "code",
   "execution_count": 88,
   "id": "c3e23b7d-7c32-4907-9c2a-8b6821a1dfbb",
   "metadata": {},
   "outputs": [],
   "source": [
    "loss = cost(*param)"
   ]
  },
  {
   "cell_type": "code",
   "execution_count": 89,
   "id": "73d062cb-4ade-4d59-85d9-72743ea47058",
   "metadata": {},
   "outputs": [],
   "source": [
    "opt = paddle.optimizer.SGD(learning_rate = 0.4, parameters = param) "
   ]
  },
  {
   "cell_type": "code",
   "execution_count": 90,
   "id": "b7af2de0-2602-44f4-8d8c-6c9f6ba799c2",
   "metadata": {},
   "outputs": [
    {
     "name": "stdout",
     "output_type": "stream",
     "text": [
      "CPU times: user 56.8 s, sys: 136 ms, total: 57 s\n",
      "Wall time: 57 s\n"
     ]
    }
   ],
   "source": [
    "%%time\n",
    "for i in range(500):\n",
    "    loss = cost(*param)\n",
    "    loss.backward()\n",
    "    opt.minimize(loss)\n",
    "    opt.clear_grad()"
   ]
  },
  {
   "cell_type": "code",
   "execution_count": 91,
   "id": "6b0a2537-cd43-46a1-8d3c-a8748d80147b",
   "metadata": {},
   "outputs": [
    {
     "name": "stdout",
     "output_type": "stream",
     "text": [
      "Optimized rotation angles: (Tensor(shape=[4, 7], dtype=float64, place=CPUPlace, stop_gradient=False,\n",
      "       [[1.44618449, 1.57079633, 0.86073060, 0.29682761, 0.11007738, 0.44460832,\n",
      "         0.65599896],\n",
      "        [0.00000000, 0.00000000, 0.79914506, 0.69832185, 0.29803606, 0.56443939,\n",
      "         0.31511345],\n",
      "        [1.69540817, 0.37198606, 0.47648065, 0.62191210, 0.02060302, 0.99209230,\n",
      "         0.66123391],\n",
      "        [0.61317793, 0.75366663, 0.78116963, 0.48335164, 0.47360398, 0.45203765,\n",
      "         0.15946189]]),)\n"
     ]
    }
   ],
   "source": [
    "print(\"Optimized rotation angles: {}\".format(param))"
   ]
  },
  {
   "cell_type": "code",
   "execution_count": 92,
   "id": "0f8ff192-27cb-47c2-8fff-4726ca373c32",
   "metadata": {},
   "outputs": [
    {
     "name": "stdout",
     "output_type": "stream",
     "text": [
      "Cost: Tensor(shape=[1], dtype=float64, place=CPUPlace, stop_gradient=False,\n",
      "       [-1.00000000])\n"
     ]
    }
   ],
   "source": [
    "print(\"Cost: {}\".format(loss))"
   ]
  },
  {
   "cell_type": "code",
   "execution_count": null,
   "id": "b60eb6ea-2abd-4caa-aae8-abcd70eab0f1",
   "metadata": {},
   "outputs": [],
   "source": []
  },
  {
   "cell_type": "code",
   "execution_count": null,
   "id": "77a9ff1c-24b1-448e-a8ef-290ba8af93f9",
   "metadata": {},
   "outputs": [],
   "source": []
  },
  {
   "cell_type": "code",
   "execution_count": null,
   "id": "57964a6b-0a17-416e-8ae3-0a2f70f6eed3",
   "metadata": {},
   "outputs": [],
   "source": []
  },
  {
   "cell_type": "code",
   "execution_count": null,
   "id": "831d1284-d84c-42fc-a2bd-532f3f994d66",
   "metadata": {},
   "outputs": [],
   "source": []
  },
  {
   "cell_type": "code",
   "execution_count": null,
   "id": "56320664-3fb5-47d3-87df-be19e67c7ac1",
   "metadata": {},
   "outputs": [],
   "source": []
  },
  {
   "cell_type": "markdown",
   "id": "00cf7801-dcc7-4038-a899-7e88e9ee93bd",
   "metadata": {
    "tags": []
   },
   "source": [
    "# Qubit rotation\n",
    "\n",
    "This example shows the basic operation of machine learning framework with a quantum device. A qubit is initilized with a arbitary Rx and Ry rotation and the target state is pure |1> state. After several steps of the iteration. The rotation angle of Rx and Ry will converge to 0 and pi. \n",
    "\n",
    "### About this example\n",
    "The example contains the model compiled with three different configurations of backends and interfaces -- JAX backend, JAX backend with pytorch interface and pytorch backend.\n",
    "The example also shows how to use state vector propagation mode and tensor network contraction mode. And two methods for obtaining gradient -- back propagation and parameter shift."
   ]
  },
  {
   "cell_type": "markdown",
   "id": "08726ea3-3a72-45b9-9e54-434c1c0da35a",
   "metadata": {},
   "source": [
    "# Initialization"
   ]
  },
  {
   "cell_type": "code",
   "execution_count": null,
   "id": "247272b3-c6d9-41f2-9108-bd12a1183b39",
   "metadata": {},
   "outputs": [],
   "source": [
    "import tedq as qai"
   ]
  },
  {
   "cell_type": "markdown",
   "id": "608865b8-8a32-4dcc-906a-bd3df18e3eaa",
   "metadata": {
    "tags": []
   },
   "source": [
    "# Define the quantum model"
   ]
  },
  {
   "cell_type": "markdown",
   "id": "ed689b00-b4d9-4441-955f-ee14576ed355",
   "metadata": {},
   "source": [
    "### Define the circuit with TeD-Q framework\n",
    "#### (Remember, if you have multiple measurements, all the measurement results should has the same shape!)"
   ]
  },
  {
   "cell_type": "code",
   "execution_count": null,
   "id": "c5ec041e-6beb-459e-9b41-b4cf14451a8e",
   "metadata": {},
   "outputs": [],
   "source": []
  },
  {
   "cell_type": "code",
   "execution_count": null,
   "id": "e33e967c-5ccb-4184-b4e5-aeec87ff0f3f",
   "metadata": {
    "tags": []
   },
   "outputs": [],
   "source": [
    "n_qubits = 10\n",
    "q_depth = 1"
   ]
  },
  {
   "cell_type": "code",
   "execution_count": null,
   "id": "1b21f89f-cfd9-4669-b0da-58bd2eb2a0bc",
   "metadata": {},
   "outputs": [],
   "source": [
    "# Define quantum circuit\n",
    "def circuitDef(params):\n",
    "    qai.templates.HardwareEfficient(n_qubits, q_depth, params)\n",
    "    return [qai.expval(qai.PauliZ(qubits=[idx])) for idx in range(n_qubits)]\n",
    "\n",
    "\n",
    "parameter_shapes = [((q_depth+1)*2,n_qubits)]\n",
    "\n",
    "# Quantum circuit construction\n",
    "circuit = qai.Circuit(circuitDef, n_qubits, parameter_shapes = parameter_shapes)"
   ]
  },
  {
   "cell_type": "code",
   "execution_count": null,
   "id": "8527f885-347c-484d-be06-e840691db5fa",
   "metadata": {},
   "outputs": [],
   "source": [
    "# visualization of the quantum circuit\n",
    "drawer = qai.matplotlib_drawer(circuit)\n",
    "drawer.draw_circuit()"
   ]
  },
  {
   "cell_type": "code",
   "execution_count": null,
   "id": "69615260-ce30-4a58-bf76-7ec13e40199c",
   "metadata": {},
   "outputs": [],
   "source": []
  },
  {
   "cell_type": "markdown",
   "id": "be8c52c1-30d7-4f7b-ae3a-8d54df6b7ae6",
   "metadata": {},
   "source": [
    "# Circuit compiled with pytorch backend"
   ]
  },
  {
   "cell_type": "markdown",
   "id": "cea48a27-da80-4dcf-8f4b-dae21c3bc3c4",
   "metadata": {
    "tags": []
   },
   "source": [
    "Gradient will obtain from backpropagation by default"
   ]
  },
  {
   "cell_type": "markdown",
   "id": "6a626f31-1f1d-4d92-b926-b2bdcf5226fd",
   "metadata": {
    "tags": []
   },
   "source": [
    "### state vector propagation mode"
   ]
  },
  {
   "cell_type": "code",
   "execution_count": null,
   "id": "fbe432cf-a458-431c-9288-68f6f8f719f4",
   "metadata": {
    "tags": []
   },
   "outputs": [],
   "source": [
    "my_compilecircuit = circuit.compilecircuit(backend=\"pytorch\")"
   ]
  },
  {
   "cell_type": "markdown",
   "id": "7210cd90-c022-483d-a52e-25d4545731f4",
   "metadata": {},
   "source": [
    "### Define cost function and optimizer"
   ]
  },
  {
   "cell_type": "code",
   "execution_count": null,
   "id": "846ac982-5cff-4e86-b294-1ef00fe45502",
   "metadata": {},
   "outputs": [],
   "source": [
    "def cost(*params):\n",
    "    results = my_compilecircuit(*params)\n",
    "    result = sum(results)\n",
    "    return result"
   ]
  },
  {
   "cell_type": "code",
   "execution_count": null,
   "id": "e3ae0767-5fc5-4782-a3cd-a1dd0cc1d656",
   "metadata": {},
   "outputs": [],
   "source": [
    "#import torch\n",
    "#from functorch import vmap\n",
    "#parameters = torch.rand((5, (q_depth+1)*2,n_qubits), requires_grad= True)"
   ]
  },
  {
   "cell_type": "code",
   "execution_count": null,
   "id": "66dc39c4-7c66-4e34-b2c9-06cacde6f3f2",
   "metadata": {},
   "outputs": [],
   "source": [
    "#vmap(cost)(parameters)"
   ]
  },
  {
   "cell_type": "code",
   "execution_count": null,
   "id": "6f5c81db-dbf8-43c1-87fa-77256f119349",
   "metadata": {},
   "outputs": [],
   "source": [
    "#a = cost(parameters)"
   ]
  },
  {
   "cell_type": "code",
   "execution_count": null,
   "id": "181ac31a-9452-45c0-9e97-84a1b8953a23",
   "metadata": {},
   "outputs": [],
   "source": [
    "#a"
   ]
  },
  {
   "cell_type": "code",
   "execution_count": null,
   "id": "5b7e47fe-3515-4aab-91f1-dcdc578f9526",
   "metadata": {},
   "outputs": [],
   "source": [
    "#a.backward()"
   ]
  },
  {
   "cell_type": "code",
   "execution_count": null,
   "id": "38e329b7-383b-49dd-a170-86fb9143a456",
   "metadata": {},
   "outputs": [],
   "source": [
    "#parameters.grad"
   ]
  },
  {
   "cell_type": "markdown",
   "id": "4968e6e7-05fc-4e3e-9648-2f74e11378a1",
   "metadata": {},
   "source": [
    "### Using backend's optimizer and training"
   ]
  },
  {
   "cell_type": "code",
   "execution_count": null,
   "id": "be952f79-b075-4b45-9197-7d40ef662dee",
   "metadata": {},
   "outputs": [],
   "source": [
    "%%time\n",
    "parameters = torch.rand(((q_depth+1)*2,n_qubits), requires_grad= True)\n",
    "from torch import optim\n",
    "optimizer = optim.Adam([parameters], lr=0.1)\n",
    "for i in range(500):\n",
    "    optimizer.zero_grad()\n",
    "    #print(b.grad)\n",
    "    loss = cost(parameters)\n",
    "    loss.backward()\n",
    "    optimizer.step()\n",
    "    #if (i + 1) % 5 == 0:\n",
    "    #    print(\"Cost after step {:5d}: {}\".format(i + 1, cost(parameters)))\n",
    "    #    print(\"Parameters after step {:5d}: {}\".format(i + 1, parameters))\n",
    "#print(parameters)\n",
    "#print(cost(parameters))"
   ]
  },
  {
   "cell_type": "code",
   "execution_count": null,
   "id": "83cf18a2-a137-446d-ac10-d07356406008",
   "metadata": {},
   "outputs": [],
   "source": []
  }
 ],
 "metadata": {
  "kernelspec": {
   "display_name": "Python 3 (ipykernel)",
   "language": "python",
   "name": "python3"
  },
  "language_info": {
   "codemirror_mode": {
    "name": "ipython",
    "version": 3
   },
   "file_extension": ".py",
   "mimetype": "text/x-python",
   "name": "python",
   "nbconvert_exporter": "python",
   "pygments_lexer": "ipython3",
   "version": "3.8.10"
  }
 },
 "nbformat": 4,
 "nbformat_minor": 5
}
